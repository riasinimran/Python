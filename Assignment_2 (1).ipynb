{
 "cells": [
  {
   "cell_type": "code",
   "execution_count": 1,
   "id": "116d7699",
   "metadata": {},
   "outputs": [
    {
     "name": "stdout",
     "output_type": "stream",
     "text": [
      "Imran\n"
     ]
    }
   ],
   "source": [
    "'''Write a lambda expression to extract first word of a string'''\n",
    "\n",
    "s= lambda x: x[:x.index(' ')]\n",
    "print(s('Imran Khan'))"
   ]
  },
  {
   "cell_type": "code",
   "execution_count": 2,
   "id": "16aef1be",
   "metadata": {},
   "outputs": [
    {
     "name": "stdout",
     "output_type": "stream",
     "text": [
      "stars\n"
     ]
    }
   ],
   "source": [
    "'''write function to extract first word of s string (with many words separated by space)'''\n",
    "\n",
    "name = \"stars size is bigger than moon\"\n",
    "first_name = name.split(' ').pop(0)\n",
    "print(first_name)\n"
   ]
  },
  {
   "cell_type": "code",
   "execution_count": 3,
   "id": "d7c8dd8b",
   "metadata": {},
   "outputs": [
    {
     "data": {
      "text/plain": [
       "['Regex', 'Imran', 'Data']"
      ]
     },
     "execution_count": 3,
     "metadata": {},
     "output_type": "execute_result"
    }
   ],
   "source": [
    "'''Extract the first word from every string from a list of strings by using map function.'''\n",
    "\n",
    "list1=['Regex Software', 'Imran Khan','Data Science']\n",
    "list(next(zip(*map(str.split, list1))))"
   ]
  },
  {
   "cell_type": "code",
   "execution_count": 4,
   "id": "f0eb1f77",
   "metadata": {},
   "outputs": [
    {
     "name": "stdout",
     "output_type": "stream",
     "text": [
      "Enter the number for calculating the prime factors :\n",
      "33\n",
      "3\n",
      "11.0\n"
     ]
    }
   ],
   "source": [
    "'''Write a function to return a list of prime factors of a given number'''\n",
    "\n",
    "import math\n",
    "def primefactors(n):\n",
    "   #even number divisible\n",
    "   while n % 2 == 0:\n",
    "      print (2),\n",
    "      n = n / 2\n",
    "    \n",
    "   #n became odd\n",
    "   for i in range(3,int(math.sqrt(n))+1,2):\n",
    "     \n",
    "      while (n % i == 0):\n",
    "         print (i)\n",
    "         n = n / i\n",
    "    \n",
    "   if n > 2:\n",
    "      print (n)\n",
    " \n",
    "n = int(input(\"Enter the number for calculating the prime factors :\\n\"))\n",
    "primefactors(n)"
   ]
  },
  {
   "cell_type": "code",
   "execution_count": 5,
   "id": "023ad9b4",
   "metadata": {},
   "outputs": [
    {
     "name": "stdout",
     "output_type": "stream",
     "text": [
      "Enter size of list 3\n",
      "Enter element of list 66\n",
      "Enter element of list 45\n",
      "Enter element of list 99\n",
      "second largest in  [66, 45, 99] is\n",
      "66\n"
     ]
    }
   ],
   "source": [
    "'''Write a function that finds 2nd largest among 4 numbers (Repetitions are allowed,without sorting)'''\n",
    "\n",
    "def second_largest(list):\n",
    "    large= max(list)\n",
    "    list.remove(large)\n",
    "    large= max(list)\n",
    "    return large\n",
    "li=[]\n",
    "n=int(input(\"Enter size of list \"))\n",
    "for i in range(0,n):\n",
    "    e=int(input(\"Enter element of list \"))\n",
    "    li.append(e)\n",
    "print(\"second largest in \",li,\"is\")\n",
    "print(second_largest(li))"
   ]
  },
  {
   "cell_type": "code",
   "execution_count": 6,
   "id": "794f9444",
   "metadata": {},
   "outputs": [
    {
     "name": "stdout",
     "output_type": "stream",
     "text": [
      "string=hello I am good hello user, user welcome\n",
      "hello I am good user, user welcome\n"
     ]
    }
   ],
   "source": [
    "'''Take an input from the user as string and find out all the non duplicate words from the input'''\n",
    "\n",
    "string = input(\"string=\")\n",
    "words_str = string.split()\n",
    "result = []\n",
    "for word in words_str:\n",
    "    # store unique words in list\n",
    "    if (string.count(word)>=1 and (word not in result)):\n",
    "        result.append(word)\n",
    "print(' '.join(result))\n",
    "\n"
   ]
  },
  {
   "cell_type": "code",
   "execution_count": 7,
   "id": "c279b444",
   "metadata": {},
   "outputs": [
    {
     "name": "stdout",
     "output_type": "stream",
     "text": [
      "Enter a string:NAMAN\n",
      "The string is a palindrome\n"
     ]
    }
   ],
   "source": [
    "'''Take a input from the user and verify the data is a palindrome or not'''\n",
    "\n",
    "string=input((\"Enter a string:\"))\n",
    "if(string==string[::-1]):\n",
    "      print(\"The string is a palindrome\")\n",
    "else:\n",
    "      print(\"Not a palindrome\")"
   ]
  },
  {
   "cell_type": "code",
   "execution_count": 8,
   "id": "43a5297d",
   "metadata": {},
   "outputs": [
    {
     "name": "stdout",
     "output_type": "stream",
     "text": [
      "Enter Two Numbers: 99\n",
      "35\n",
      "\n",
      "LCM (99, 35) =  3465\n",
      "HCF (99, 35) =  1\n"
     ]
    }
   ],
   "source": [
    "'''Use exception handling to find out the LCM & HCF of two numbers\n",
    "- Input of two numbers has to be given by the user'''\n",
    "\n",
    "print(\"Enter Two Numbers: \", end=\"\")\n",
    "n1 = int(input())\n",
    "n2 = int(input())\n",
    "\n",
    "a = n1\n",
    "b = n2\n",
    "while b!=0:\n",
    "    temp = b\n",
    "    b = a%b\n",
    "    a = temp\n",
    "\n",
    "hcf = a\n",
    "lcm = int((n1*n2)/hcf)\n",
    "\n",
    "print(\"\\nLCM (\" + str(n1) + \", \" + str(n2) + \") = \", lcm)\n",
    "print(\"HCF (\" + str(n1) + \", \" + str(n2) + \") = \", hcf)"
   ]
  },
  {
   "cell_type": "code",
   "execution_count": null,
   "id": "f1d08327",
   "metadata": {},
   "outputs": [],
   "source": []
  }
 ],
 "metadata": {
  "kernelspec": {
   "display_name": "Python 3 (ipykernel)",
   "language": "python",
   "name": "python3"
  },
  "language_info": {
   "codemirror_mode": {
    "name": "ipython",
    "version": 3
   },
   "file_extension": ".py",
   "mimetype": "text/x-python",
   "name": "python",
   "nbconvert_exporter": "python",
   "pygments_lexer": "ipython3",
   "version": "3.8.10"
  }
 },
 "nbformat": 4,
 "nbformat_minor": 5
}
