{
 "cells": [
  {
   "cell_type": "code",
   "execution_count": null,
   "id": "116d7699",
   "metadata": {},
   "outputs": [],
   "source": [
    "'''Write a lambda expression to extract first word of a string'''\n",
    "\n",
    "s= lambda x: x[:x.index(' ')]\n",
    "print(s('Imran Khan'))"
   ]
  },
  {
   "cell_type": "code",
   "execution_count": null,
   "id": "16aef1be",
   "metadata": {},
   "outputs": [],
   "source": [
    "'''write function to extract first word of s string (with many words separated by space)'''\n",
    "\n",
    "name = \"stars size is bigger than moon\"\n",
    "first_name = name.split(' ').pop(0)\n",
    "print(first_name)\n"
   ]
  },
  {
   "cell_type": "code",
   "execution_count": null,
   "id": "d7c8dd8b",
   "metadata": {},
   "outputs": [],
   "source": [
    "'''Extract the first word from every string from a list of strings by using map function.'''\n",
    "\n",
    "list1=['Regex Software', 'Imran Khan','Data Science']\n",
    "list(next(zip(*map(str.split, list1))))"
   ]
  },
  {
   "cell_type": "code",
   "execution_count": null,
   "id": "f0eb1f77",
   "metadata": {},
   "outputs": [],
   "source": [
    "'''Write a function to return a list of prime factors of a given number'''\n",
    "\n",
    "import math\n",
    "def primefactors(n):\n",
    "   #even number divisible\n",
    "   while n % 2 == 0:\n",
    "      print (2),\n",
    "      n = n / 2\n",
    "    \n",
    "   #n became odd\n",
    "   for i in range(3,int(math.sqrt(n))+1,2):\n",
    "     \n",
    "      while (n % i == 0):\n",
    "         print (i)\n",
    "         n = n / i\n",
    "    \n",
    "   if n > 2:\n",
    "      print (n)\n",
    " \n",
    "n = int(input(\"Enter the number for calculating the prime factors :\\n\"))\n",
    "primefactors(n)"
   ]
  },
  {
   "cell_type": "code",
   "execution_count": null,
   "id": "023ad9b4",
   "metadata": {},
   "outputs": [],
   "source": [
    "'''Write a function that finds 2nd largest among 4 numbers (Repetitions are allowed,without sorting)'''\n",
    "\n",
    "def second_largest(list):\n",
    "    large= max(list)\n",
    "    list.remove(large)\n",
    "    large= max(list)\n",
    "    return large\n",
    "li=[]\n",
    "n=int(input(\"Enter size of list \"))\n",
    "for i in range(0,n):\n",
    "    e=int(input(\"Enter element of list \"))\n",
    "    li.append(e)\n",
    "print(\"second largest in \",li,\"is\")\n",
    "print(second_largest(li))"
   ]
  },
  {
   "cell_type": "code",
   "execution_count": null,
   "id": "794f9444",
   "metadata": {},
   "outputs": [],
   "source": [
    "'''Take an input from the user as string and find out all the non duplicate words from the input'''\n",
    "\n",
    "string = input(\"string=\")\n",
    "words_str = string.split()\n",
    "result = []\n",
    "for word in words_str:\n",
    "    # store unique words in list\n",
    "    if (string.count(word)>=1 and (word not in result)):\n",
    "        result.append(word)\n",
    "print(' '.join(result))\n",
    "\n"
   ]
  },
  {
   "cell_type": "code",
   "execution_count": null,
   "id": "c279b444",
   "metadata": {},
   "outputs": [],
   "source": [
    "'''Take a input from the user and verify the data is a palindrome or not'''\n",
    "\n",
    "string=input((\"Enter a string:\"))\n",
    "if(string==string[::-1]):\n",
    "      print(\"The string is a palindrome\")\n",
    "else:\n",
    "      print(\"Not a palindrome\")"
   ]
  },
  {
   "cell_type": "code",
   "execution_count": null,
   "id": "5e065a17",
   "metadata": {},
   "outputs": [],
   "source": [
    "'''Use exception handling to find out the LCM & HCF of two numbers\n",
    "- Input of two numbers has to be given by the user'''\n",
    "\n",
    "print(\"Enter Two Numbers: \", end=\"\")\n",
    "n1 = int(input())\n",
    "n2 = int(input())\n",
    "\n",
    "a = n1\n",
    "b = n2\n",
    "while b!=0:\n",
    "    temp = b\n",
    "    b = a%b\n",
    "    a = temp\n",
    "\n",
    "hcf = a\n",
    "lcm = int((n1*n2)/hcf)\n",
    "\n",
    "print(\"\\nLCM (\" + str(n1) + \", \" + str(n2) + \") = \", lcm)\n",
    "print(\"HCF (\" + str(n1) + \", \" + str(n2) + \") = \", hcf)"
   ]
  },
  {
   "cell_type": "code",
   "execution_count": null,
   "id": "b6082e4e",
   "metadata": {},
   "outputs": [],
   "source": []
  }
 ],
 "metadata": {
  "kernelspec": {
   "display_name": "Python 3 (ipykernel)",
   "language": "python",
   "name": "python3"
  },
  "language_info": {
   "codemirror_mode": {
    "name": "ipython",
    "version": 3
   },
   "file_extension": ".py",
   "mimetype": "text/x-python",
   "name": "python",
   "nbconvert_exporter": "python",
   "pygments_lexer": "ipython3",
   "version": "3.8.10"
  }
 },
 "nbformat": 4,
 "nbformat_minor": 5
}
